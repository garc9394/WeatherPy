{
 "cells": [
  {
   "cell_type": "code",
   "execution_count": 6,
   "metadata": {
    "collapsed": true
   },
   "outputs": [],
   "source": [
    "import pandas as pd\n",
    "import random\n",
    "from citipy import citipy\n",
    "import json\n",
    "import requests as req\n",
    "from datetime import datetime\n",
    "import matplotlib.pyplot as plt\n",
    "import seaborn\n",
    "import apikeys\n",
    "\n",
    "api_key = apikeys.OWM_API_KEY"
   ]
  },
  {
   "cell_type": "code",
   "execution_count": 13,
   "metadata": {},
   "outputs": [
    {
     "name": "stdout",
     "output_type": "stream",
     "text": [
      "City 1: 'quatre cocos' with country code of 'mu'.\n",
      "City 2: 'busselton' with country code of 'au'.\n",
      "City 3: 'cabo san lucas' with country code of 'mx'.\n",
      "City 4: 'sidrolandia' with country code of 'br'.\n",
      "City 5: 'shimoda' with country code of 'jp'.\n"
     ]
    }
   ],
   "source": [
    "cities = []\n",
    "\n",
    "for x in range(5):\n",
    "    lat = random.randint(-90,90)\n",
    "    lon = random.randint(-180,180)\n",
    "    cities.append(citipy.nearest_city(lat, lon))\n",
    "\n",
    "for index, city in enumerate(cities):\n",
    "    country_code = city.country_code\n",
    "    name = city.city_name\n",
    "    print(\"City \" + str(index + 1) + \": '\"  + name + \"' with country code of '\" + country_code + \"'.\")"
   ]
  },
  {
   "cell_type": "code",
   "execution_count": 14,
   "metadata": {},
   "outputs": [
    {
     "name": "stdout",
     "output_type": "stream",
     "text": [
      "{\n",
      "    \"base\": \"stations\",\n",
      "    \"clouds\": {\n",
      "        \"all\": 68\n",
      "    },\n",
      "    \"cod\": 200,\n",
      "    \"coord\": {\n",
      "        \"lat\": 34.67,\n",
      "        \"lon\": 138.95\n",
      "    },\n",
      "    \"dt\": 1511990532,\n",
      "    \"id\": 1852357,\n",
      "    \"main\": {\n",
      "        \"grnd_level\": 1018.87,\n",
      "        \"humidity\": 100,\n",
      "        \"pressure\": 1018.87,\n",
      "        \"sea_level\": 1028.28,\n",
      "        \"temp\": 62.17,\n",
      "        \"temp_max\": 62.17,\n",
      "        \"temp_min\": 62.17\n",
      "    },\n",
      "    \"name\": \"Shimoda\",\n",
      "    \"sys\": {\n",
      "        \"country\": \"JP\",\n",
      "        \"message\": 0.174,\n",
      "        \"sunrise\": 1511904703,\n",
      "        \"sunset\": 1511940813\n",
      "    },\n",
      "    \"weather\": [\n",
      "        {\n",
      "            \"description\": \"broken clouds\",\n",
      "            \"icon\": \"04n\",\n",
      "            \"id\": 803,\n",
      "            \"main\": \"Clouds\"\n",
      "        }\n",
      "    ],\n",
      "    \"wind\": {\n",
      "        \"deg\": 14,\n",
      "        \"speed\": 5.61\n",
      "    }\n",
      "}\n"
     ]
    }
   ],
   "source": [
    "weather_data = []\n",
    "\n",
    "url = 'http://api.openweathermap.org/data/2.5/weather'\n",
    "params = {'appid': apikeys.OWM_API_KEY,\n",
    "          'q': '',\n",
    "          'units': 'imperial'}\n",
    "\n",
    "for city in cities:\n",
    "    params['q'] = city.city_name + ',' + city.country_code\n",
    "    response = req.get(url, params=params).json()\n",
    "    weather_data.append(response)\n",
    "\n",
    "print(json.dumps(response, indent=4, sort_keys=True))"
   ]
  },
  {
   "cell_type": "code",
   "execution_count": 15,
   "metadata": {},
   "outputs": [
    {
     "name": "stdout",
     "output_type": "stream",
     "text": [
      "             City  Cloudiness Country        Date  Humidity    Lat     Lng  \\\n",
      "0    Quatre Cocos          40      MU  1511989200        83 -20.21   57.76   \n",
      "1       Busselton          32      AU  1511990531       100 -33.65  115.33   \n",
      "2  Cabo San Lucas          40      MX  1511988420        69  22.89 -109.91   \n",
      "3     Sidrolandia          40      BR  1511985600        66 -20.93  -54.96   \n",
      "4         Shimoda          68      JP  1511990532       100  34.67  138.95   \n",
      "\n",
      "   Max Temp  Wind Speed  \n",
      "0     73.40        3.36  \n",
      "1     55.73       12.66  \n",
      "2     84.20        6.93  \n",
      "3     86.00        2.24  \n",
      "4     62.17        5.61  \n"
     ]
    }
   ],
   "source": [
    "city_data = []\n",
    "cloudiness_data = []\n",
    "country_data = []\n",
    "date_data = []\n",
    "humidity_data = []\n",
    "lat_data = []\n",
    "lng_data = []\n",
    "max_temp_data = []\n",
    "wind_speed_data = []\n",
    "for data in weather_data:\n",
    "    city_data.append(data['name'])\n",
    "    cloudiness_data.append(data['clouds']['all'])\n",
    "    country_data.append(data['sys']['country'])\n",
    "    date_data.append(data['dt'])\n",
    "    humidity_data.append(data['main']['humidity'])\n",
    "    lat_data.append(data['coord']['lat'])\n",
    "    lng_data.append(data['coord']['lon'])\n",
    "    max_temp_data.append(data['main']['temp_max'])\n",
    "    wind_speed_data.append(data['wind']['speed'])\n",
    "\n",
    "weather_dict = {\"City\": city_data,\n",
    "                \"Cloudiness\": cloudiness_data,\n",
    "                \"Country\": country_data,\n",
    "                \"Date\": date_data,\n",
    "                \"Humidity\": humidity_data,\n",
    "                \"Lat\": lat_data,\n",
    "                \"Lng\": lng_data,\n",
    "                \"Max Temp\": max_temp_data,\n",
    "                \"Wind Speed\": wind_speed_data}\n",
    "weather_data_df = pd.DataFrame(weather_dict)\n",
    "print(weather_data_df.head())"
   ]
  },
  {
   "cell_type": "code",
   "execution_count": 16,
   "metadata": {},
   "outputs": [
    {
     "data": {
      "image/png": "[encoded data removed]",
      "text/plain": [
       "<matplotlib.figure.Figure at 0x1a14c90978>"
      ]
     },
     "metadata": {},
     "output_type": "display_data"
    }
   ],
   "source": [
    "report_date = datetime.fromtimestamp(weather_data_df[\"Date\"].min()).strftime('%m-%d-%y')\n",
    "\n",
    "plt.scatter(weather_data_df[\"Lat\"], weather_data_df[\"Max Temp\"], marker=\"o\")\n",
    "\n",
    "title = (\"City Latitude vs. Max Temperature (\" + str(report_date) + \")\")\n",
    "plt.title(title)\n",
    "plt.ylabel(\"Max Temperature (F)\")\n",
    "plt.xlabel(\"Latitude\")\n",
    "plt.xlim(-90,90)\n",
    "plt.ylim(-70,125)\n",
    "plt.grid(True)\n",
    "\n",
    "plt.savefig(\"Images/CityLatitudeVsMaxTemperature.png\")\n",
    "\n",
    "plt.show()"
   ]
  },
  {
   "cell_type": "code",
   "execution_count": 17,
   "metadata": {},
   "outputs": [
    {
     "data": {
      "image/png": "[encoded data removed]",
      "text/plain": [
       "<matplotlib.figure.Figure at 0x1a14c904a8>"
      ]
     },
     "metadata": {},
     "output_type": "display_data"
    }
   ],
   "source": [
    "plt.scatter(weather_data_df[\"Lat\"], weather_data_df[\"Humidity\"], marker=\"o\")\n",
    "\n",
    "title = (\"City Latitude vs. Humidity (\" + str(report_date) + \")\")\n",
    "plt.title(title)\n",
    "plt.ylabel(\"Humidity (%)\")\n",
    "plt.xlabel(\"Latitude\")\n",
    "plt.xlim(-90,90)\n",
    "plt.ylim(-10,110)\n",
    "plt.grid(True)\n",
    "\n",
    "plt.savefig(\"Images/CityLatitudeVsHumidity.png\")\n",
    "\n",
    "plt.show()"
   ]
  },
  {
   "cell_type": "code",
   "execution_count": 18,
   "metadata": {},
   "outputs": [
    {
     "data": {
      "image/png": "[encoded data removed]",
      "text/plain": [
       "<matplotlib.figure.Figure at 0x10b04d400>"
      ]
     },
     "metadata": {},
     "output_type": "display_data"
    }
   ],
   "source": [
    "plt.scatter(weather_data_df[\"Lat\"], weather_data_df[\"Cloudiness\"], marker=\"o\")\n",
    "\n",
    "title = (\"City Latitude vs. Cloudiness (\" + str(report_date) + \")\")\n",
    "plt.title(title)\n",
    "plt.ylabel(\"Cloudiness (%)\")\n",
    "plt.xlabel(\"Latitude\")\n",
    "plt.xlim(-90,90)\n",
    "plt.ylim(-10,110)\n",
    "plt.grid(True)\n",
    "\n",
    "plt.savefig(\"Images/CityLatitudeVsCloudiness.png\")\n",
    "\n",
    "plt.show()"
   ]
  },
  {
   "cell_type": "code",
   "execution_count": 19,
   "metadata": {},
   "outputs": [
    {
     "data": {
      "image/png": "[encoded data removed]",
      "text/plain": [
       "<matplotlib.figure.Figure at 0x10b04dc88>"
      ]
     },
     "metadata": {},
     "output_type": "display_data"
    }
   ],
   "source": [
    "plt.scatter(weather_data_df[\"Lat\"], weather_data_df[\"Wind Speed\"], marker=\"o\")\n",
    "\n",
    "title = (\"City Latitude vs. Wind Speed (\" + str(report_date) + \")\")\n",
    "plt.title(title)\n",
    "plt.ylabel(\"Wind Speed (mph)\")\n",
    "plt.xlabel(\"Latitude\")\n",
    "plt.xlim(-90,90)\n",
    "plt.ylim(-5,40)\n",
    "plt.grid(True)\n",
    "\n",
    "plt.savefig(\"Images/CityLatitudeVsWindSpeed.png\")\n",
    "\n",
    "plt.show()"
   ]
  },
  {
   "cell_type": "code",
   "execution_count": null,
   "metadata": {
    "collapsed": true
   },
   "outputs": [],
   "source": []
  }
 ],
 "metadata": {
  "kernelspec": {
   "display_name": "Python 3",
   "language": "python",
   "name": "python3"
  },
  "language_info": {
   "codemirror_mode": {
    "name": "ipython",
    "version": 3
   },
   "file_extension": ".py",
   "mimetype": "text/x-python",
   "name": "python",
   "nbconvert_exporter": "python",
   "pygments_lexer": "ipython3",
   "version": "3.6.3"
  }
 },
 "nbformat": 4,
 "nbformat_minor": 2
}
