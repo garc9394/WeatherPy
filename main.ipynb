{
 "cells": [
  {
   "cell_type": "code",
   "execution_count": 18,
   "metadata": {
    "collapsed": true
   },
   "outputs": [],
   "source": [
    "import pandas as pd\n",
    "import random\n",
    "from citipy import citipy\n",
    "import json\n",
    "import requests as req\n",
    "from datetime import datetime\n",
    "import matplotlib.pyplot as plt\n",
    "import seaborn\n",
    "import apikeys\n",
    "\n",
    "api_key = apikeys.OWM_API_KEY"
   ]
  },
  {
   "cell_type": "code",
   "execution_count": 3,
   "metadata": {},
   "outputs": [
    {
     "name": "stdout",
     "output_type": "stream",
     "text": [
      "City 1: 'hermanus' with country code of 'za'.\n",
      "City 2: 'mgandu' with country code of 'tz'.\n",
      "City 3: 'georgetown' with country code of 'sh'.\n",
      "City 4: 'albany' with country code of 'au'.\n",
      "City 5: 'fare' with country code of 'pf'.\n"
     ]
    }
   ],
   "source": [
    "cities = []\n",
    "\n",
    "for x in range(5):\n",
    "    lat = random.randint(-90,90)\n",
    "    lon = random.randint(-180,180)\n",
    "    cities.append(citipy.nearest_city(lat, lon))\n",
    "\n",
    "for index, city in enumerate(cities):\n",
    "    country_code = city.country_code\n",
    "    name = city.city_name\n",
    "    print(\"City \" + str(index + 1) + \": '\"  + name + \"' with country code of '\" + country_code + \"'.\")"
   ]
  },
  {
   "cell_type": "code",
   "execution_count": 4,
   "metadata": {},
   "outputs": [
    {
     "name": "stdout",
     "output_type": "stream",
     "text": [
      "{\n",
      "    \"base\": \"stations\",\n",
      "    \"clouds\": {\n",
      "        \"all\": 92\n",
      "    },\n",
      "    \"cod\": 200,\n",
      "    \"coord\": {\n",
      "        \"lat\": -16.7,\n",
      "        \"lon\": -151.02\n",
      "    },\n",
      "    \"dt\": 1511855753,\n",
      "    \"id\": 4034496,\n",
      "    \"main\": {\n",
      "        \"grnd_level\": 1024.87,\n",
      "        \"humidity\": 98,\n",
      "        \"pressure\": 1024.87,\n",
      "        \"sea_level\": 1026.09,\n",
      "        \"temp\": 81.25,\n",
      "        \"temp_max\": 81.25,\n",
      "        \"temp_min\": 81.25\n",
      "    },\n",
      "    \"name\": \"Fare\",\n",
      "    \"sys\": {\n",
      "        \"country\": \"PF\",\n",
      "        \"message\": 0.1658,\n",
      "        \"sunrise\": 1511882484,\n",
      "        \"sunset\": 1511929407\n",
      "    },\n",
      "    \"weather\": [\n",
      "        {\n",
      "            \"description\": \"overcast clouds\",\n",
      "            \"icon\": \"04n\",\n",
      "            \"id\": 804,\n",
      "            \"main\": \"Clouds\"\n",
      "        }\n",
      "    ],\n",
      "    \"wind\": {\n",
      "        \"deg\": 82.5002,\n",
      "        \"speed\": 12.46\n",
      "    }\n",
      "}\n"
     ]
    }
   ],
   "source": [
    "weather_data = []\n",
    "\n",
    "url = 'http://api.openweathermap.org/data/2.5/weather'\n",
    "params = {'appid': apikeys.OWM_API_KEY,\n",
    "          'q': '',\n",
    "          'units': 'imperial'}\n",
    "\n",
    "for city in cities:\n",
    "    params['q'] = city.city_name + ',' + city.country_code\n",
    "    response = req.get(url, params=params).json()\n",
    "    weather_data.append(response)\n",
    "\n",
    "print(json.dumps(response, indent=4, sort_keys=True))"
   ]
  },
  {
   "cell_type": "code",
   "execution_count": 5,
   "metadata": {},
   "outputs": [
    {
     "name": "stdout",
     "output_type": "stream",
     "text": [
      "         City  Cloudiness Country        Date  Humidity    Lat     Lng  \\\n",
      "0    Hermanus          12      ZA  1511855751        53 -34.42   19.23   \n",
      "1      Mgandu          12      TZ  1511855751        91  -5.95   34.13   \n",
      "2  Georgetown          92      SH  1511855752       100  -7.93  -14.42   \n",
      "3      Albany           0      AU  1511855752        61 -35.02  117.89   \n",
      "4        Fare          92      PF  1511855753        98 -16.70 -151.02   \n",
      "\n",
      "   Max Temp  Wind Speed  \n",
      "0     72.25        6.64  \n",
      "1     74.90        9.55  \n",
      "2     74.36       14.14  \n",
      "3     67.34       14.47  \n",
      "4     81.25       12.46  \n"
     ]
    }
   ],
   "source": [
    "city_data = []\n",
    "cloudiness_data = []\n",
    "country_data = []\n",
    "date_data = []\n",
    "humidity_data = []\n",
    "lat_data = []\n",
    "lng_data = []\n",
    "max_temp_data = []\n",
    "wind_speed_data = []\n",
    "for data in weather_data:\n",
    "    city_data.append(data['name'])\n",
    "    cloudiness_data.append(data['clouds']['all'])\n",
    "    country_data.append(data['sys']['country'])\n",
    "    date_data.append(data['dt'])\n",
    "    humidity_data.append(data['main']['humidity'])\n",
    "    lat_data.append(data['coord']['lat'])\n",
    "    lng_data.append(data['coord']['lon'])\n",
    "    max_temp_data.append(data['main']['temp_max'])\n",
    "    wind_speed_data.append(data['wind']['speed'])\n",
    "\n",
    "weather_dict = {\"City\": city_data,\n",
    "                \"Cloudiness\": cloudiness_data,\n",
    "                \"Country\": country_data,\n",
    "                \"Date\": date_data,\n",
    "                \"Humidity\": humidity_data,\n",
    "                \"Lat\": lat_data,\n",
    "                \"Lng\": lng_data,\n",
    "                \"Max Temp\": max_temp_data,\n",
    "                \"Wind Speed\": wind_speed_data}\n",
    "weather_data_df = pd.DataFrame(weather_dict)\n",
    "print(weather_data_df.head())"
   ]
  },
  {
   "cell_type": "code",
   "execution_count": 21,
   "metadata": {},
   "outputs": [
    {
     "data": {
      "image/png": "[encoded data removed]",
      "text/plain": [
       "<matplotlib.figure.Figure at 0x1a23cc3d30>"
      ]
     },
     "metadata": {},
     "output_type": "display_data"
    }
   ],
   "source": [
    "report_date = datetime.fromtimestamp(weather_data_df[\"Date\"].min()).strftime('%m-%d-%y')\n",
    "\n",
    "plt.scatter(weather_data_df[\"Lat\"], weather_data_df[\"Max Temp\"], marker=\"o\")\n",
    "\n",
    "title = (\"City Latitude vs. Max Temperature (\" + str(report_date) + \")\")\n",
    "plt.title(title)\n",
    "plt.ylabel(\"Max Temperature (F)\")\n",
    "plt.xlabel(\"Latitude\")\n",
    "plt.xlim(-90,90)\n",
    "plt.ylim(-70,125)\n",
    "plt.grid(True)\n",
    "\n",
    "plt.savefig(\"CityLatitudeVsMaxTemperature.png\")\n",
    "\n",
    "plt.show()"
   ]
  },
  {
   "cell_type": "code",
   "execution_count": 22,
   "metadata": {},
   "outputs": [
    {
     "data": {
      "image/png": "[encoded data removed]",
      "text/plain": [
       "<matplotlib.figure.Figure at 0x1a23e44c88>"
      ]
     },
     "metadata": {},
     "output_type": "display_data"
    }
   ],
   "source": [
    "plt.scatter(weather_data_df[\"Lat\"], weather_data_df[\"Humidity\"], marker=\"o\")\n",
    "\n",
    "title = (\"City Latitude vs. Humidity (\" + str(report_date) + \")\")\n",
    "plt.title(title)\n",
    "plt.ylabel(\"Humidity (%)\")\n",
    "plt.xlabel(\"Latitude\")\n",
    "plt.xlim(-90,90)\n",
    "plt.ylim(-10,110)\n",
    "plt.grid(True)\n",
    "\n",
    "plt.savefig(\"CityLatitudeVsHumidity.png\")\n",
    "\n",
    "plt.show()"
   ]
  },
  {
   "cell_type": "code",
   "execution_count": 23,
   "metadata": {},
   "outputs": [
    {
     "data": {
      "image/png": "[encoded data removed]",
      "text/plain": [
       "<matplotlib.figure.Figure at 0x1a23f3e4e0>"
      ]
     },
     "metadata": {},
     "output_type": "display_data"
    }
   ],
   "source": [
    "plt.scatter(weather_data_df[\"Lat\"], weather_data_df[\"Cloudiness\"], marker=\"o\")\n",
    "\n",
    "title = (\"City Latitude vs. Cloudiness (\" + str(report_date) + \")\")\n",
    "plt.title(title)\n",
    "plt.ylabel(\"Cloudiness (%)\")\n",
    "plt.xlabel(\"Latitude\")\n",
    "plt.xlim(-90,90)\n",
    "plt.ylim(-10,110)\n",
    "plt.grid(True)\n",
    "\n",
    "plt.savefig(\"CityLatitudeVsCloudiness.png\")\n",
    "\n",
    "plt.show()"
   ]
  },
  {
   "cell_type": "code",
   "execution_count": 24,
   "metadata": {},
   "outputs": [
    {
     "data": {
      "image/png": "[encoded data removed]",
      "text/plain": [
       "<matplotlib.figure.Figure at 0x1a23f696d8>"
      ]
     },
     "metadata": {},
     "output_type": "display_data"
    }
   ],
   "source": [
    "plt.scatter(weather_data_df[\"Lat\"], weather_data_df[\"Wind Speed\"], marker=\"o\")\n",
    "\n",
    "title = (\"City Latitude vs. Wind Speed (\" + str(report_date) + \")\")\n",
    "plt.title(title)\n",
    "plt.ylabel(\"Wind Speed (mph)\")\n",
    "plt.xlabel(\"Latitude\")\n",
    "plt.xlim(-90,90)\n",
    "plt.ylim(-5,40)\n",
    "plt.grid(True)\n",
    "\n",
    "plt.savefig(\"CityLatitudeVsWindSpeed.png\")\n",
    "\n",
    "plt.show()"
   ]
  },
  {
   "cell_type": "code",
   "execution_count": null,
   "metadata": {
    "collapsed": true
   },
   "outputs": [],
   "source": []
  }
 ],
 "metadata": {
  "kernelspec": {
   "display_name": "Python 3",
   "language": "python",
   "name": "python3"
  },
  "language_info": {
   "codemirror_mode": {
    "name": "ipython",
    "version": 3
   },
   "file_extension": ".py",
   "mimetype": "text/x-python",
   "name": "python",
   "nbconvert_exporter": "python",
   "pygments_lexer": "ipython3",
   "version": "3.6.3"
  }
 },
 "nbformat": 4,
 "nbformat_minor": 2
}
